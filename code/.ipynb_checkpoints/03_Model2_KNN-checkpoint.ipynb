{
 "cells": [
  {
   "cell_type": "markdown",
   "id": "24cc766f",
   "metadata": {},
   "source": [
    "# KOBE Bryant Shot Selection"
   ]
  },
  {
   "cell_type": "markdown",
   "id": "f3336a8e",
   "metadata": {},
   "source": [
    "Kobe Bryant marked his retirement from the NBA by scoring 60 points in his final game as a Los Angeles Laker on Wednesday, April 12, 2016. Drafted into the NBA at the age of 17, Kobe earned the sport’s highest accolades throughout his long career.\n",
    "\n",
    "Using 20 years of data on Kobe's swishes and misses, can you predict which shots will find the bottom of the net? This competition is well suited for practicing classification basics, feature engineering, and time series analysis. Practice got Kobe an eight-figure contract and 5 championship rings. What will it get you?"
   ]
  },
  {
   "cell_type": "markdown",
   "id": "534ce52d",
   "metadata": {},
   "source": [
    "---\n",
    "# Modeling: KNeighbors\n",
    "---"
   ]
  },
  {
   "cell_type": "code",
   "execution_count": 1,
   "id": "a29caa51",
   "metadata": {},
   "outputs": [],
   "source": [
    "import pandas as pd\n",
    "import numpy as np\n",
    "import seaborn as sns\n",
    "import matplotlib.pyplot as plt\n",
    "%matplotlib inline\n",
    "\n",
    "from sklearn import metrics\n",
    "from sklearn.model_selection import train_test_split, GridSearchCV\n",
    "from sklearn.preprocessing import StandardScaler\n",
    "from sklearn.neighbors import KNeighborsClassifier"
   ]
  },
  {
   "cell_type": "markdown",
   "id": "135d671f",
   "metadata": {},
   "source": [
    "## Setting a Random Seed for Consistency"
   ]
  },
  {
   "cell_type": "code",
   "execution_count": 2,
   "id": "278dbd0e",
   "metadata": {},
   "outputs": [],
   "source": [
    "from numpy.random import seed\n",
    "seed(1)\n",
    "\n",
    "# Set random seed\n",
    "tf.random.set_seed(42)"
   ]
  },
  {
   "cell_type": "markdown",
   "id": "99abec2d",
   "metadata": {},
   "source": [
    "# Read In Data"
   ]
  },
  {
   "cell_type": "code",
   "execution_count": 3,
   "id": "9cb60145",
   "metadata": {
    "scrolled": true
   },
   "outputs": [
    {
     "name": "stdout",
     "output_type": "stream",
     "text": [
      "(25697, 11)\n"
     ]
    },
    {
     "data": {
      "text/html": [
       "<div>\n",
       "<style scoped>\n",
       "    .dataframe tbody tr th:only-of-type {\n",
       "        vertical-align: middle;\n",
       "    }\n",
       "\n",
       "    .dataframe tbody tr th {\n",
       "        vertical-align: top;\n",
       "    }\n",
       "\n",
       "    .dataframe thead th {\n",
       "        text-align: right;\n",
       "    }\n",
       "</style>\n",
       "<table border=\"1\" class=\"dataframe\">\n",
       "  <thead>\n",
       "    <tr style=\"text-align: right;\">\n",
       "      <th></th>\n",
       "      <th>combined_shot_type</th>\n",
       "      <th>period</th>\n",
       "      <th>shot_distance</th>\n",
       "      <th>shot_made_flag</th>\n",
       "      <th>shot_type</th>\n",
       "      <th>shot_zone_area</th>\n",
       "      <th>shot_zone_basic</th>\n",
       "      <th>shot_zone_range</th>\n",
       "      <th>opponent</th>\n",
       "      <th>home_away</th>\n",
       "      <th>time_sec_remaining</th>\n",
       "    </tr>\n",
       "    <tr>\n",
       "      <th>shot_id</th>\n",
       "      <th></th>\n",
       "      <th></th>\n",
       "      <th></th>\n",
       "      <th></th>\n",
       "      <th></th>\n",
       "      <th></th>\n",
       "      <th></th>\n",
       "      <th></th>\n",
       "      <th></th>\n",
       "      <th></th>\n",
       "      <th></th>\n",
       "    </tr>\n",
       "  </thead>\n",
       "  <tbody>\n",
       "    <tr>\n",
       "      <th>2</th>\n",
       "      <td>Jump Shot</td>\n",
       "      <td>1</td>\n",
       "      <td>15</td>\n",
       "      <td>0.0</td>\n",
       "      <td>2PT Field Goal</td>\n",
       "      <td>Left Side(L)</td>\n",
       "      <td>Mid-Range</td>\n",
       "      <td>8-16 ft.</td>\n",
       "      <td>2000-01 POR</td>\n",
       "      <td>0</td>\n",
       "      <td>622</td>\n",
       "    </tr>\n",
       "    <tr>\n",
       "      <th>3</th>\n",
       "      <td>Jump Shot</td>\n",
       "      <td>1</td>\n",
       "      <td>16</td>\n",
       "      <td>1.0</td>\n",
       "      <td>2PT Field Goal</td>\n",
       "      <td>Left Side Center(LC)</td>\n",
       "      <td>Mid-Range</td>\n",
       "      <td>16-24 ft.</td>\n",
       "      <td>2000-01 POR</td>\n",
       "      <td>0</td>\n",
       "      <td>465</td>\n",
       "    </tr>\n",
       "    <tr>\n",
       "      <th>4</th>\n",
       "      <td>Jump Shot</td>\n",
       "      <td>1</td>\n",
       "      <td>22</td>\n",
       "      <td>0.0</td>\n",
       "      <td>2PT Field Goal</td>\n",
       "      <td>Right Side Center(RC)</td>\n",
       "      <td>Mid-Range</td>\n",
       "      <td>16-24 ft.</td>\n",
       "      <td>2000-01 POR</td>\n",
       "      <td>0</td>\n",
       "      <td>412</td>\n",
       "    </tr>\n",
       "    <tr>\n",
       "      <th>5</th>\n",
       "      <td>Dunk</td>\n",
       "      <td>2</td>\n",
       "      <td>0</td>\n",
       "      <td>1.0</td>\n",
       "      <td>2PT Field Goal</td>\n",
       "      <td>Center(C)</td>\n",
       "      <td>Restricted Area</td>\n",
       "      <td>Less Than 8 ft.</td>\n",
       "      <td>2000-01 POR</td>\n",
       "      <td>0</td>\n",
       "      <td>379</td>\n",
       "    </tr>\n",
       "    <tr>\n",
       "      <th>6</th>\n",
       "      <td>Jump Shot</td>\n",
       "      <td>3</td>\n",
       "      <td>14</td>\n",
       "      <td>0.0</td>\n",
       "      <td>2PT Field Goal</td>\n",
       "      <td>Left Side(L)</td>\n",
       "      <td>Mid-Range</td>\n",
       "      <td>8-16 ft.</td>\n",
       "      <td>2000-01 POR</td>\n",
       "      <td>0</td>\n",
       "      <td>572</td>\n",
       "    </tr>\n",
       "  </tbody>\n",
       "</table>\n",
       "</div>"
      ],
      "text/plain": [
       "        combined_shot_type  period  shot_distance  shot_made_flag  \\\n",
       "shot_id                                                             \n",
       "2                Jump Shot       1             15             0.0   \n",
       "3                Jump Shot       1             16             1.0   \n",
       "4                Jump Shot       1             22             0.0   \n",
       "5                     Dunk       2              0             1.0   \n",
       "6                Jump Shot       3             14             0.0   \n",
       "\n",
       "              shot_type         shot_zone_area  shot_zone_basic  \\\n",
       "shot_id                                                           \n",
       "2        2PT Field Goal           Left Side(L)        Mid-Range   \n",
       "3        2PT Field Goal   Left Side Center(LC)        Mid-Range   \n",
       "4        2PT Field Goal  Right Side Center(RC)        Mid-Range   \n",
       "5        2PT Field Goal              Center(C)  Restricted Area   \n",
       "6        2PT Field Goal           Left Side(L)        Mid-Range   \n",
       "\n",
       "         shot_zone_range     opponent  home_away  time_sec_remaining  \n",
       "shot_id                                                               \n",
       "2               8-16 ft.  2000-01 POR          0                 622  \n",
       "3              16-24 ft.  2000-01 POR          0                 465  \n",
       "4              16-24 ft.  2000-01 POR          0                 412  \n",
       "5        Less Than 8 ft.  2000-01 POR          0                 379  \n",
       "6               8-16 ft.  2000-01 POR          0                 572  "
      ]
     },
     "execution_count": 3,
     "metadata": {},
     "output_type": "execute_result"
    }
   ],
   "source": [
    "df = pd.read_csv('../data/kobe_data_cleaned.csv', index_col = 'shot_id')\n",
    "print(df.shape)\n",
    "df.head()"
   ]
  },
  {
   "cell_type": "markdown",
   "id": "8259d849",
   "metadata": {},
   "source": [
    "# Modeling"
   ]
  },
  {
   "cell_type": "markdown",
   "id": "5f461464",
   "metadata": {},
   "source": [
    "First of all, it should be clear to everyone that Kobe Bryant is the Best Basketball Player to have ever lived. \n",
    ">Not to be confused with Michael Jordan, who is the GOAT. \n",
    "\n",
    "Secondly, Basketball is about 1 thing and 1 thing only, buckets. We are less interested in minimizing false positives or false negatives as we are not dealing with fraud detection or medical diagnosis, where these missclassification metrics are more important. \n",
    "> **Therefore, accuracy is the metric that is most important to us.** \n",
    "---\n",
    "### There are 5 datasets I want to try when choosing our features:\n",
    "1. **All remaining variables**\n",
    "2. **Shot location and shot type variables w/ opponent**\n",
    "3. **Shot location and shot type variables**\n",
    "4. **Basic shot location variables**\n",
    "5. **Only ```shot_distance```**"
   ]
  },
  {
   "cell_type": "markdown",
   "id": "b25f744e",
   "metadata": {},
   "source": [
    "## Set our X's and Y for our model"
   ]
  },
  {
   "cell_type": "code",
   "execution_count": 4,
   "id": "f846e819",
   "metadata": {},
   "outputs": [],
   "source": [
    "y = df['shot_made_flag'].astype(int)\n",
    "\n",
    "X1 = df.drop(columns=['shot_made_flag'])\n",
    "X2 = df[['combined_shot_type', 'shot_distance', 'shot_zone_area', 'opponent']]\n",
    "X3 = df[['combined_shot_type', 'shot_distance', 'shot_zone_area']]\n",
    "X4 = df[['shot_distance', 'shot_zone_area', ]]\n",
    "X5 = df[['shot_distance']]"
   ]
  },
  {
   "cell_type": "markdown",
   "id": "1505c76d",
   "metadata": {},
   "source": [
    "## Dummified Categoricals"
   ]
  },
  {
   "cell_type": "code",
   "execution_count": 5,
   "id": "b2d69b8d",
   "metadata": {},
   "outputs": [
    {
     "name": "stdout",
     "output_type": "stream",
     "text": [
      "(25697, 558)\n"
     ]
    },
    {
     "data": {
      "text/html": [
       "<div>\n",
       "<style scoped>\n",
       "    .dataframe tbody tr th:only-of-type {\n",
       "        vertical-align: middle;\n",
       "    }\n",
       "\n",
       "    .dataframe tbody tr th {\n",
       "        vertical-align: top;\n",
       "    }\n",
       "\n",
       "    .dataframe thead th {\n",
       "        text-align: right;\n",
       "    }\n",
       "</style>\n",
       "<table border=\"1\" class=\"dataframe\">\n",
       "  <thead>\n",
       "    <tr style=\"text-align: right;\">\n",
       "      <th></th>\n",
       "      <th>shot_distance</th>\n",
       "      <th>time_sec_remaining</th>\n",
       "      <th>combined_shot_type_Dunk</th>\n",
       "      <th>combined_shot_type_Hook Shot</th>\n",
       "      <th>combined_shot_type_Jump Shot</th>\n",
       "      <th>combined_shot_type_Layup</th>\n",
       "      <th>combined_shot_type_Tip Shot</th>\n",
       "      <th>period_2</th>\n",
       "      <th>period_3</th>\n",
       "      <th>period_4</th>\n",
       "      <th>...</th>\n",
       "      <th>opponent_2015-16 OKC</th>\n",
       "      <th>opponent_2015-16 PHI</th>\n",
       "      <th>opponent_2015-16 PHX</th>\n",
       "      <th>opponent_2015-16 POR</th>\n",
       "      <th>opponent_2015-16 SAC</th>\n",
       "      <th>opponent_2015-16 SAS</th>\n",
       "      <th>opponent_2015-16 TOR</th>\n",
       "      <th>opponent_2015-16 UTA</th>\n",
       "      <th>opponent_2015-16 WAS</th>\n",
       "      <th>home_away_1</th>\n",
       "    </tr>\n",
       "    <tr>\n",
       "      <th>shot_id</th>\n",
       "      <th></th>\n",
       "      <th></th>\n",
       "      <th></th>\n",
       "      <th></th>\n",
       "      <th></th>\n",
       "      <th></th>\n",
       "      <th></th>\n",
       "      <th></th>\n",
       "      <th></th>\n",
       "      <th></th>\n",
       "      <th></th>\n",
       "      <th></th>\n",
       "      <th></th>\n",
       "      <th></th>\n",
       "      <th></th>\n",
       "      <th></th>\n",
       "      <th></th>\n",
       "      <th></th>\n",
       "      <th></th>\n",
       "      <th></th>\n",
       "      <th></th>\n",
       "    </tr>\n",
       "  </thead>\n",
       "  <tbody>\n",
       "    <tr>\n",
       "      <th>2</th>\n",
       "      <td>15</td>\n",
       "      <td>622</td>\n",
       "      <td>0</td>\n",
       "      <td>0</td>\n",
       "      <td>1</td>\n",
       "      <td>0</td>\n",
       "      <td>0</td>\n",
       "      <td>0</td>\n",
       "      <td>0</td>\n",
       "      <td>0</td>\n",
       "      <td>...</td>\n",
       "      <td>0</td>\n",
       "      <td>0</td>\n",
       "      <td>0</td>\n",
       "      <td>0</td>\n",
       "      <td>0</td>\n",
       "      <td>0</td>\n",
       "      <td>0</td>\n",
       "      <td>0</td>\n",
       "      <td>0</td>\n",
       "      <td>0</td>\n",
       "    </tr>\n",
       "    <tr>\n",
       "      <th>3</th>\n",
       "      <td>16</td>\n",
       "      <td>465</td>\n",
       "      <td>0</td>\n",
       "      <td>0</td>\n",
       "      <td>1</td>\n",
       "      <td>0</td>\n",
       "      <td>0</td>\n",
       "      <td>0</td>\n",
       "      <td>0</td>\n",
       "      <td>0</td>\n",
       "      <td>...</td>\n",
       "      <td>0</td>\n",
       "      <td>0</td>\n",
       "      <td>0</td>\n",
       "      <td>0</td>\n",
       "      <td>0</td>\n",
       "      <td>0</td>\n",
       "      <td>0</td>\n",
       "      <td>0</td>\n",
       "      <td>0</td>\n",
       "      <td>0</td>\n",
       "    </tr>\n",
       "    <tr>\n",
       "      <th>4</th>\n",
       "      <td>22</td>\n",
       "      <td>412</td>\n",
       "      <td>0</td>\n",
       "      <td>0</td>\n",
       "      <td>1</td>\n",
       "      <td>0</td>\n",
       "      <td>0</td>\n",
       "      <td>0</td>\n",
       "      <td>0</td>\n",
       "      <td>0</td>\n",
       "      <td>...</td>\n",
       "      <td>0</td>\n",
       "      <td>0</td>\n",
       "      <td>0</td>\n",
       "      <td>0</td>\n",
       "      <td>0</td>\n",
       "      <td>0</td>\n",
       "      <td>0</td>\n",
       "      <td>0</td>\n",
       "      <td>0</td>\n",
       "      <td>0</td>\n",
       "    </tr>\n",
       "    <tr>\n",
       "      <th>5</th>\n",
       "      <td>0</td>\n",
       "      <td>379</td>\n",
       "      <td>1</td>\n",
       "      <td>0</td>\n",
       "      <td>0</td>\n",
       "      <td>0</td>\n",
       "      <td>0</td>\n",
       "      <td>1</td>\n",
       "      <td>0</td>\n",
       "      <td>0</td>\n",
       "      <td>...</td>\n",
       "      <td>0</td>\n",
       "      <td>0</td>\n",
       "      <td>0</td>\n",
       "      <td>0</td>\n",
       "      <td>0</td>\n",
       "      <td>0</td>\n",
       "      <td>0</td>\n",
       "      <td>0</td>\n",
       "      <td>0</td>\n",
       "      <td>0</td>\n",
       "    </tr>\n",
       "    <tr>\n",
       "      <th>6</th>\n",
       "      <td>14</td>\n",
       "      <td>572</td>\n",
       "      <td>0</td>\n",
       "      <td>0</td>\n",
       "      <td>1</td>\n",
       "      <td>0</td>\n",
       "      <td>0</td>\n",
       "      <td>0</td>\n",
       "      <td>1</td>\n",
       "      <td>0</td>\n",
       "      <td>...</td>\n",
       "      <td>0</td>\n",
       "      <td>0</td>\n",
       "      <td>0</td>\n",
       "      <td>0</td>\n",
       "      <td>0</td>\n",
       "      <td>0</td>\n",
       "      <td>0</td>\n",
       "      <td>0</td>\n",
       "      <td>0</td>\n",
       "      <td>0</td>\n",
       "    </tr>\n",
       "  </tbody>\n",
       "</table>\n",
       "<p>5 rows × 558 columns</p>\n",
       "</div>"
      ],
      "text/plain": [
       "         shot_distance  time_sec_remaining  combined_shot_type_Dunk  \\\n",
       "shot_id                                                               \n",
       "2                   15                 622                        0   \n",
       "3                   16                 465                        0   \n",
       "4                   22                 412                        0   \n",
       "5                    0                 379                        1   \n",
       "6                   14                 572                        0   \n",
       "\n",
       "         combined_shot_type_Hook Shot  combined_shot_type_Jump Shot  \\\n",
       "shot_id                                                               \n",
       "2                                   0                             1   \n",
       "3                                   0                             1   \n",
       "4                                   0                             1   \n",
       "5                                   0                             0   \n",
       "6                                   0                             1   \n",
       "\n",
       "         combined_shot_type_Layup  combined_shot_type_Tip Shot  period_2  \\\n",
       "shot_id                                                                    \n",
       "2                               0                            0         0   \n",
       "3                               0                            0         0   \n",
       "4                               0                            0         0   \n",
       "5                               0                            0         1   \n",
       "6                               0                            0         0   \n",
       "\n",
       "         period_3  period_4  ...  opponent_2015-16 OKC  opponent_2015-16 PHI  \\\n",
       "shot_id                      ...                                               \n",
       "2               0         0  ...                     0                     0   \n",
       "3               0         0  ...                     0                     0   \n",
       "4               0         0  ...                     0                     0   \n",
       "5               0         0  ...                     0                     0   \n",
       "6               1         0  ...                     0                     0   \n",
       "\n",
       "         opponent_2015-16 PHX  opponent_2015-16 POR  opponent_2015-16 SAC  \\\n",
       "shot_id                                                                     \n",
       "2                           0                     0                     0   \n",
       "3                           0                     0                     0   \n",
       "4                           0                     0                     0   \n",
       "5                           0                     0                     0   \n",
       "6                           0                     0                     0   \n",
       "\n",
       "         opponent_2015-16 SAS  opponent_2015-16 TOR  opponent_2015-16 UTA  \\\n",
       "shot_id                                                                     \n",
       "2                           0                     0                     0   \n",
       "3                           0                     0                     0   \n",
       "4                           0                     0                     0   \n",
       "5                           0                     0                     0   \n",
       "6                           0                     0                     0   \n",
       "\n",
       "         opponent_2015-16 WAS  home_away_1  \n",
       "shot_id                                     \n",
       "2                           0            0  \n",
       "3                           0            0  \n",
       "4                           0            0  \n",
       "5                           0            0  \n",
       "6                           0            0  \n",
       "\n",
       "[5 rows x 558 columns]"
      ]
     },
     "execution_count": 5,
     "metadata": {},
     "output_type": "execute_result"
    }
   ],
   "source": [
    "dum_X1 = pd.get_dummies(X1, columns=['combined_shot_type', 'period', 'shot_type', \n",
    "                                     'shot_zone_area', 'shot_zone_basic', 'shot_zone_range', \n",
    "                                     'opponent', 'home_away'], \n",
    "                        drop_first=True)\n",
    "print(dum_X1.shape)\n",
    "dum_X1.head()"
   ]
  },
  {
   "cell_type": "code",
   "execution_count": 6,
   "id": "664643e3",
   "metadata": {},
   "outputs": [
    {
     "name": "stdout",
     "output_type": "stream",
     "text": [
      "(25697, 539)\n"
     ]
    },
    {
     "data": {
      "text/html": [
       "<div>\n",
       "<style scoped>\n",
       "    .dataframe tbody tr th:only-of-type {\n",
       "        vertical-align: middle;\n",
       "    }\n",
       "\n",
       "    .dataframe tbody tr th {\n",
       "        vertical-align: top;\n",
       "    }\n",
       "\n",
       "    .dataframe thead th {\n",
       "        text-align: right;\n",
       "    }\n",
       "</style>\n",
       "<table border=\"1\" class=\"dataframe\">\n",
       "  <thead>\n",
       "    <tr style=\"text-align: right;\">\n",
       "      <th></th>\n",
       "      <th>shot_distance</th>\n",
       "      <th>combined_shot_type_Dunk</th>\n",
       "      <th>combined_shot_type_Hook Shot</th>\n",
       "      <th>combined_shot_type_Jump Shot</th>\n",
       "      <th>combined_shot_type_Layup</th>\n",
       "      <th>combined_shot_type_Tip Shot</th>\n",
       "      <th>shot_zone_area_Center(C)</th>\n",
       "      <th>shot_zone_area_Left Side Center(LC)</th>\n",
       "      <th>shot_zone_area_Left Side(L)</th>\n",
       "      <th>shot_zone_area_Right Side Center(RC)</th>\n",
       "      <th>...</th>\n",
       "      <th>opponent_2015-16 NYK</th>\n",
       "      <th>opponent_2015-16 OKC</th>\n",
       "      <th>opponent_2015-16 PHI</th>\n",
       "      <th>opponent_2015-16 PHX</th>\n",
       "      <th>opponent_2015-16 POR</th>\n",
       "      <th>opponent_2015-16 SAC</th>\n",
       "      <th>opponent_2015-16 SAS</th>\n",
       "      <th>opponent_2015-16 TOR</th>\n",
       "      <th>opponent_2015-16 UTA</th>\n",
       "      <th>opponent_2015-16 WAS</th>\n",
       "    </tr>\n",
       "    <tr>\n",
       "      <th>shot_id</th>\n",
       "      <th></th>\n",
       "      <th></th>\n",
       "      <th></th>\n",
       "      <th></th>\n",
       "      <th></th>\n",
       "      <th></th>\n",
       "      <th></th>\n",
       "      <th></th>\n",
       "      <th></th>\n",
       "      <th></th>\n",
       "      <th></th>\n",
       "      <th></th>\n",
       "      <th></th>\n",
       "      <th></th>\n",
       "      <th></th>\n",
       "      <th></th>\n",
       "      <th></th>\n",
       "      <th></th>\n",
       "      <th></th>\n",
       "      <th></th>\n",
       "      <th></th>\n",
       "    </tr>\n",
       "  </thead>\n",
       "  <tbody>\n",
       "    <tr>\n",
       "      <th>2</th>\n",
       "      <td>15</td>\n",
       "      <td>0</td>\n",
       "      <td>0</td>\n",
       "      <td>1</td>\n",
       "      <td>0</td>\n",
       "      <td>0</td>\n",
       "      <td>0</td>\n",
       "      <td>0</td>\n",
       "      <td>1</td>\n",
       "      <td>0</td>\n",
       "      <td>...</td>\n",
       "      <td>0</td>\n",
       "      <td>0</td>\n",
       "      <td>0</td>\n",
       "      <td>0</td>\n",
       "      <td>0</td>\n",
       "      <td>0</td>\n",
       "      <td>0</td>\n",
       "      <td>0</td>\n",
       "      <td>0</td>\n",
       "      <td>0</td>\n",
       "    </tr>\n",
       "    <tr>\n",
       "      <th>3</th>\n",
       "      <td>16</td>\n",
       "      <td>0</td>\n",
       "      <td>0</td>\n",
       "      <td>1</td>\n",
       "      <td>0</td>\n",
       "      <td>0</td>\n",
       "      <td>0</td>\n",
       "      <td>1</td>\n",
       "      <td>0</td>\n",
       "      <td>0</td>\n",
       "      <td>...</td>\n",
       "      <td>0</td>\n",
       "      <td>0</td>\n",
       "      <td>0</td>\n",
       "      <td>0</td>\n",
       "      <td>0</td>\n",
       "      <td>0</td>\n",
       "      <td>0</td>\n",
       "      <td>0</td>\n",
       "      <td>0</td>\n",
       "      <td>0</td>\n",
       "    </tr>\n",
       "    <tr>\n",
       "      <th>4</th>\n",
       "      <td>22</td>\n",
       "      <td>0</td>\n",
       "      <td>0</td>\n",
       "      <td>1</td>\n",
       "      <td>0</td>\n",
       "      <td>0</td>\n",
       "      <td>0</td>\n",
       "      <td>0</td>\n",
       "      <td>0</td>\n",
       "      <td>1</td>\n",
       "      <td>...</td>\n",
       "      <td>0</td>\n",
       "      <td>0</td>\n",
       "      <td>0</td>\n",
       "      <td>0</td>\n",
       "      <td>0</td>\n",
       "      <td>0</td>\n",
       "      <td>0</td>\n",
       "      <td>0</td>\n",
       "      <td>0</td>\n",
       "      <td>0</td>\n",
       "    </tr>\n",
       "    <tr>\n",
       "      <th>5</th>\n",
       "      <td>0</td>\n",
       "      <td>1</td>\n",
       "      <td>0</td>\n",
       "      <td>0</td>\n",
       "      <td>0</td>\n",
       "      <td>0</td>\n",
       "      <td>1</td>\n",
       "      <td>0</td>\n",
       "      <td>0</td>\n",
       "      <td>0</td>\n",
       "      <td>...</td>\n",
       "      <td>0</td>\n",
       "      <td>0</td>\n",
       "      <td>0</td>\n",
       "      <td>0</td>\n",
       "      <td>0</td>\n",
       "      <td>0</td>\n",
       "      <td>0</td>\n",
       "      <td>0</td>\n",
       "      <td>0</td>\n",
       "      <td>0</td>\n",
       "    </tr>\n",
       "    <tr>\n",
       "      <th>6</th>\n",
       "      <td>14</td>\n",
       "      <td>0</td>\n",
       "      <td>0</td>\n",
       "      <td>1</td>\n",
       "      <td>0</td>\n",
       "      <td>0</td>\n",
       "      <td>0</td>\n",
       "      <td>0</td>\n",
       "      <td>1</td>\n",
       "      <td>0</td>\n",
       "      <td>...</td>\n",
       "      <td>0</td>\n",
       "      <td>0</td>\n",
       "      <td>0</td>\n",
       "      <td>0</td>\n",
       "      <td>0</td>\n",
       "      <td>0</td>\n",
       "      <td>0</td>\n",
       "      <td>0</td>\n",
       "      <td>0</td>\n",
       "      <td>0</td>\n",
       "    </tr>\n",
       "  </tbody>\n",
       "</table>\n",
       "<p>5 rows × 539 columns</p>\n",
       "</div>"
      ],
      "text/plain": [
       "         shot_distance  combined_shot_type_Dunk  combined_shot_type_Hook Shot  \\\n",
       "shot_id                                                                         \n",
       "2                   15                        0                             0   \n",
       "3                   16                        0                             0   \n",
       "4                   22                        0                             0   \n",
       "5                    0                        1                             0   \n",
       "6                   14                        0                             0   \n",
       "\n",
       "         combined_shot_type_Jump Shot  combined_shot_type_Layup  \\\n",
       "shot_id                                                           \n",
       "2                                   1                         0   \n",
       "3                                   1                         0   \n",
       "4                                   1                         0   \n",
       "5                                   0                         0   \n",
       "6                                   1                         0   \n",
       "\n",
       "         combined_shot_type_Tip Shot  shot_zone_area_Center(C)  \\\n",
       "shot_id                                                          \n",
       "2                                  0                         0   \n",
       "3                                  0                         0   \n",
       "4                                  0                         0   \n",
       "5                                  0                         1   \n",
       "6                                  0                         0   \n",
       "\n",
       "         shot_zone_area_Left Side Center(LC)  shot_zone_area_Left Side(L)  \\\n",
       "shot_id                                                                     \n",
       "2                                          0                            1   \n",
       "3                                          1                            0   \n",
       "4                                          0                            0   \n",
       "5                                          0                            0   \n",
       "6                                          0                            1   \n",
       "\n",
       "         shot_zone_area_Right Side Center(RC)  ...  opponent_2015-16 NYK  \\\n",
       "shot_id                                        ...                         \n",
       "2                                           0  ...                     0   \n",
       "3                                           0  ...                     0   \n",
       "4                                           1  ...                     0   \n",
       "5                                           0  ...                     0   \n",
       "6                                           0  ...                     0   \n",
       "\n",
       "         opponent_2015-16 OKC  opponent_2015-16 PHI  opponent_2015-16 PHX  \\\n",
       "shot_id                                                                     \n",
       "2                           0                     0                     0   \n",
       "3                           0                     0                     0   \n",
       "4                           0                     0                     0   \n",
       "5                           0                     0                     0   \n",
       "6                           0                     0                     0   \n",
       "\n",
       "         opponent_2015-16 POR  opponent_2015-16 SAC  opponent_2015-16 SAS  \\\n",
       "shot_id                                                                     \n",
       "2                           0                     0                     0   \n",
       "3                           0                     0                     0   \n",
       "4                           0                     0                     0   \n",
       "5                           0                     0                     0   \n",
       "6                           0                     0                     0   \n",
       "\n",
       "         opponent_2015-16 TOR  opponent_2015-16 UTA  opponent_2015-16 WAS  \n",
       "shot_id                                                                    \n",
       "2                           0                     0                     0  \n",
       "3                           0                     0                     0  \n",
       "4                           0                     0                     0  \n",
       "5                           0                     0                     0  \n",
       "6                           0                     0                     0  \n",
       "\n",
       "[5 rows x 539 columns]"
      ]
     },
     "execution_count": 6,
     "metadata": {},
     "output_type": "execute_result"
    }
   ],
   "source": [
    "dum_X2 = pd.get_dummies(X2, columns=['combined_shot_type', 'shot_zone_area', 'opponent'], \n",
    "                        drop_first=True)\n",
    "print(dum_X2.shape)\n",
    "dum_X2.head()"
   ]
  },
  {
   "cell_type": "code",
   "execution_count": 7,
   "id": "bb875c82",
   "metadata": {},
   "outputs": [
    {
     "name": "stdout",
     "output_type": "stream",
     "text": [
      "(25697, 11)\n"
     ]
    },
    {
     "data": {
      "text/html": [
       "<div>\n",
       "<style scoped>\n",
       "    .dataframe tbody tr th:only-of-type {\n",
       "        vertical-align: middle;\n",
       "    }\n",
       "\n",
       "    .dataframe tbody tr th {\n",
       "        vertical-align: top;\n",
       "    }\n",
       "\n",
       "    .dataframe thead th {\n",
       "        text-align: right;\n",
       "    }\n",
       "</style>\n",
       "<table border=\"1\" class=\"dataframe\">\n",
       "  <thead>\n",
       "    <tr style=\"text-align: right;\">\n",
       "      <th></th>\n",
       "      <th>shot_distance</th>\n",
       "      <th>combined_shot_type_Dunk</th>\n",
       "      <th>combined_shot_type_Hook Shot</th>\n",
       "      <th>combined_shot_type_Jump Shot</th>\n",
       "      <th>combined_shot_type_Layup</th>\n",
       "      <th>combined_shot_type_Tip Shot</th>\n",
       "      <th>shot_zone_area_Center(C)</th>\n",
       "      <th>shot_zone_area_Left Side Center(LC)</th>\n",
       "      <th>shot_zone_area_Left Side(L)</th>\n",
       "      <th>shot_zone_area_Right Side Center(RC)</th>\n",
       "      <th>shot_zone_area_Right Side(R)</th>\n",
       "    </tr>\n",
       "    <tr>\n",
       "      <th>shot_id</th>\n",
       "      <th></th>\n",
       "      <th></th>\n",
       "      <th></th>\n",
       "      <th></th>\n",
       "      <th></th>\n",
       "      <th></th>\n",
       "      <th></th>\n",
       "      <th></th>\n",
       "      <th></th>\n",
       "      <th></th>\n",
       "      <th></th>\n",
       "    </tr>\n",
       "  </thead>\n",
       "  <tbody>\n",
       "    <tr>\n",
       "      <th>2</th>\n",
       "      <td>15</td>\n",
       "      <td>0</td>\n",
       "      <td>0</td>\n",
       "      <td>1</td>\n",
       "      <td>0</td>\n",
       "      <td>0</td>\n",
       "      <td>0</td>\n",
       "      <td>0</td>\n",
       "      <td>1</td>\n",
       "      <td>0</td>\n",
       "      <td>0</td>\n",
       "    </tr>\n",
       "    <tr>\n",
       "      <th>3</th>\n",
       "      <td>16</td>\n",
       "      <td>0</td>\n",
       "      <td>0</td>\n",
       "      <td>1</td>\n",
       "      <td>0</td>\n",
       "      <td>0</td>\n",
       "      <td>0</td>\n",
       "      <td>1</td>\n",
       "      <td>0</td>\n",
       "      <td>0</td>\n",
       "      <td>0</td>\n",
       "    </tr>\n",
       "    <tr>\n",
       "      <th>4</th>\n",
       "      <td>22</td>\n",
       "      <td>0</td>\n",
       "      <td>0</td>\n",
       "      <td>1</td>\n",
       "      <td>0</td>\n",
       "      <td>0</td>\n",
       "      <td>0</td>\n",
       "      <td>0</td>\n",
       "      <td>0</td>\n",
       "      <td>1</td>\n",
       "      <td>0</td>\n",
       "    </tr>\n",
       "    <tr>\n",
       "      <th>5</th>\n",
       "      <td>0</td>\n",
       "      <td>1</td>\n",
       "      <td>0</td>\n",
       "      <td>0</td>\n",
       "      <td>0</td>\n",
       "      <td>0</td>\n",
       "      <td>1</td>\n",
       "      <td>0</td>\n",
       "      <td>0</td>\n",
       "      <td>0</td>\n",
       "      <td>0</td>\n",
       "    </tr>\n",
       "    <tr>\n",
       "      <th>6</th>\n",
       "      <td>14</td>\n",
       "      <td>0</td>\n",
       "      <td>0</td>\n",
       "      <td>1</td>\n",
       "      <td>0</td>\n",
       "      <td>0</td>\n",
       "      <td>0</td>\n",
       "      <td>0</td>\n",
       "      <td>1</td>\n",
       "      <td>0</td>\n",
       "      <td>0</td>\n",
       "    </tr>\n",
       "  </tbody>\n",
       "</table>\n",
       "</div>"
      ],
      "text/plain": [
       "         shot_distance  combined_shot_type_Dunk  combined_shot_type_Hook Shot  \\\n",
       "shot_id                                                                         \n",
       "2                   15                        0                             0   \n",
       "3                   16                        0                             0   \n",
       "4                   22                        0                             0   \n",
       "5                    0                        1                             0   \n",
       "6                   14                        0                             0   \n",
       "\n",
       "         combined_shot_type_Jump Shot  combined_shot_type_Layup  \\\n",
       "shot_id                                                           \n",
       "2                                   1                         0   \n",
       "3                                   1                         0   \n",
       "4                                   1                         0   \n",
       "5                                   0                         0   \n",
       "6                                   1                         0   \n",
       "\n",
       "         combined_shot_type_Tip Shot  shot_zone_area_Center(C)  \\\n",
       "shot_id                                                          \n",
       "2                                  0                         0   \n",
       "3                                  0                         0   \n",
       "4                                  0                         0   \n",
       "5                                  0                         1   \n",
       "6                                  0                         0   \n",
       "\n",
       "         shot_zone_area_Left Side Center(LC)  shot_zone_area_Left Side(L)  \\\n",
       "shot_id                                                                     \n",
       "2                                          0                            1   \n",
       "3                                          1                            0   \n",
       "4                                          0                            0   \n",
       "5                                          0                            0   \n",
       "6                                          0                            1   \n",
       "\n",
       "         shot_zone_area_Right Side Center(RC)  shot_zone_area_Right Side(R)  \n",
       "shot_id                                                                      \n",
       "2                                           0                             0  \n",
       "3                                           0                             0  \n",
       "4                                           1                             0  \n",
       "5                                           0                             0  \n",
       "6                                           0                             0  "
      ]
     },
     "execution_count": 7,
     "metadata": {},
     "output_type": "execute_result"
    }
   ],
   "source": [
    "dum_X3 = pd.get_dummies(X3, columns=['combined_shot_type', 'shot_zone_area',], \n",
    "                        drop_first=True)\n",
    "print(dum_X3.shape)\n",
    "dum_X3.head()"
   ]
  },
  {
   "cell_type": "code",
   "execution_count": 8,
   "id": "f1b3f1cd",
   "metadata": {},
   "outputs": [
    {
     "name": "stdout",
     "output_type": "stream",
     "text": [
      "(25697, 6)\n"
     ]
    },
    {
     "data": {
      "text/html": [
       "<div>\n",
       "<style scoped>\n",
       "    .dataframe tbody tr th:only-of-type {\n",
       "        vertical-align: middle;\n",
       "    }\n",
       "\n",
       "    .dataframe tbody tr th {\n",
       "        vertical-align: top;\n",
       "    }\n",
       "\n",
       "    .dataframe thead th {\n",
       "        text-align: right;\n",
       "    }\n",
       "</style>\n",
       "<table border=\"1\" class=\"dataframe\">\n",
       "  <thead>\n",
       "    <tr style=\"text-align: right;\">\n",
       "      <th></th>\n",
       "      <th>shot_distance</th>\n",
       "      <th>shot_zone_area_Center(C)</th>\n",
       "      <th>shot_zone_area_Left Side Center(LC)</th>\n",
       "      <th>shot_zone_area_Left Side(L)</th>\n",
       "      <th>shot_zone_area_Right Side Center(RC)</th>\n",
       "      <th>shot_zone_area_Right Side(R)</th>\n",
       "    </tr>\n",
       "    <tr>\n",
       "      <th>shot_id</th>\n",
       "      <th></th>\n",
       "      <th></th>\n",
       "      <th></th>\n",
       "      <th></th>\n",
       "      <th></th>\n",
       "      <th></th>\n",
       "    </tr>\n",
       "  </thead>\n",
       "  <tbody>\n",
       "    <tr>\n",
       "      <th>2</th>\n",
       "      <td>15</td>\n",
       "      <td>0</td>\n",
       "      <td>0</td>\n",
       "      <td>1</td>\n",
       "      <td>0</td>\n",
       "      <td>0</td>\n",
       "    </tr>\n",
       "    <tr>\n",
       "      <th>3</th>\n",
       "      <td>16</td>\n",
       "      <td>0</td>\n",
       "      <td>1</td>\n",
       "      <td>0</td>\n",
       "      <td>0</td>\n",
       "      <td>0</td>\n",
       "    </tr>\n",
       "    <tr>\n",
       "      <th>4</th>\n",
       "      <td>22</td>\n",
       "      <td>0</td>\n",
       "      <td>0</td>\n",
       "      <td>0</td>\n",
       "      <td>1</td>\n",
       "      <td>0</td>\n",
       "    </tr>\n",
       "    <tr>\n",
       "      <th>5</th>\n",
       "      <td>0</td>\n",
       "      <td>1</td>\n",
       "      <td>0</td>\n",
       "      <td>0</td>\n",
       "      <td>0</td>\n",
       "      <td>0</td>\n",
       "    </tr>\n",
       "    <tr>\n",
       "      <th>6</th>\n",
       "      <td>14</td>\n",
       "      <td>0</td>\n",
       "      <td>0</td>\n",
       "      <td>1</td>\n",
       "      <td>0</td>\n",
       "      <td>0</td>\n",
       "    </tr>\n",
       "  </tbody>\n",
       "</table>\n",
       "</div>"
      ],
      "text/plain": [
       "         shot_distance  shot_zone_area_Center(C)  \\\n",
       "shot_id                                            \n",
       "2                   15                         0   \n",
       "3                   16                         0   \n",
       "4                   22                         0   \n",
       "5                    0                         1   \n",
       "6                   14                         0   \n",
       "\n",
       "         shot_zone_area_Left Side Center(LC)  shot_zone_area_Left Side(L)  \\\n",
       "shot_id                                                                     \n",
       "2                                          0                            1   \n",
       "3                                          1                            0   \n",
       "4                                          0                            0   \n",
       "5                                          0                            0   \n",
       "6                                          0                            1   \n",
       "\n",
       "         shot_zone_area_Right Side Center(RC)  shot_zone_area_Right Side(R)  \n",
       "shot_id                                                                      \n",
       "2                                           0                             0  \n",
       "3                                           0                             0  \n",
       "4                                           1                             0  \n",
       "5                                           0                             0  \n",
       "6                                           0                             0  "
      ]
     },
     "execution_count": 8,
     "metadata": {},
     "output_type": "execute_result"
    }
   ],
   "source": [
    "dum_X4 = pd.get_dummies(X4, columns=['shot_zone_area',], \n",
    "                        drop_first=True)\n",
    "print(dum_X4.shape)\n",
    "dum_X4.head()"
   ]
  },
  {
   "cell_type": "markdown",
   "id": "a238e575",
   "metadata": {},
   "source": [
    "**X5 has no categorical features so dummification is not needed on that dataset.**"
   ]
  },
  {
   "cell_type": "markdown",
   "id": "91b8bdf2",
   "metadata": {},
   "source": [
    "## Train/Test Split and Scaling"
   ]
  },
  {
   "cell_type": "code",
   "execution_count": 9,
   "id": "73c7976c",
   "metadata": {},
   "outputs": [],
   "source": [
    "# Train/test split\n",
    "X1_train, X1_test, y1_train, y1_test = train_test_split(dum_X1, y, stratify=y, random_state=42)\n",
    "\n",
    "# Scale data\n",
    "sc = StandardScaler()\n",
    "X1_train_sc = sc.fit_transform(X1_train)\n",
    "X1_test_sc = sc.transform(X1_test)\n",
    "\n",
    "n1_input = X1_train_sc.shape[1]"
   ]
  },
  {
   "cell_type": "code",
   "execution_count": 10,
   "id": "173d7425",
   "metadata": {},
   "outputs": [],
   "source": [
    "# Train/test split\n",
    "X2_train, X2_test, y2_train, y2_test = train_test_split(dum_X2, y, stratify=y, random_state=42)\n",
    "\n",
    "# Scale data\n",
    "sc = StandardScaler()\n",
    "X2_train_sc = sc.fit_transform(X2_train)\n",
    "X2_test_sc = sc.transform(X2_test)\n",
    "\n",
    "n2_input = X2_train_sc.shape[1]"
   ]
  },
  {
   "cell_type": "code",
   "execution_count": 11,
   "id": "9d25fd20",
   "metadata": {},
   "outputs": [],
   "source": [
    "# Train/test split\n",
    "X3_train, X3_test, y3_train, y3_test = train_test_split(dum_X3, y, stratify=y, random_state=42)\n",
    "\n",
    "# Scale data\n",
    "sc = StandardScaler()\n",
    "X3_train_sc = sc.fit_transform(X3_train)\n",
    "X3_test_sc = sc.transform(X3_test)\n",
    "\n",
    "n3_input = X3_train_sc.shape[1]"
   ]
  },
  {
   "cell_type": "code",
   "execution_count": 12,
   "id": "315f2ce6",
   "metadata": {},
   "outputs": [],
   "source": [
    "# Train/test split\n",
    "X4_train, X4_test, y4_train, y4_test = train_test_split(dum_X4, y, stratify=y, random_state=42)\n",
    "\n",
    "# Scale data\n",
    "sc = StandardScaler()\n",
    "X4_train_sc = sc.fit_transform(X4_train)\n",
    "X4_test_sc = sc.transform(X4_test)\n",
    "\n",
    "n4_input = X4_train_sc.shape[1]"
   ]
  },
  {
   "cell_type": "code",
   "execution_count": 13,
   "id": "d26a2d15",
   "metadata": {},
   "outputs": [],
   "source": [
    "# Train/test split\n",
    "X5_train, X5_test, y5_train, y5_test = train_test_split(X5, y, stratify=y, random_state=42)\n",
    "\n",
    "# Scale data\n",
    "sc = StandardScaler()\n",
    "X5_train_sc = sc.fit_transform(X5_train)\n",
    "X5_test_sc = sc.transform(X5_test)\n",
    "\n",
    "n5_input = X5_train_sc.shape[1]"
   ]
  },
  {
   "cell_type": "markdown",
   "id": "97ee3a61",
   "metadata": {},
   "source": [
    "## Model 0: Null Model"
   ]
  },
  {
   "cell_type": "code",
   "execution_count": 14,
   "id": "b9f10259",
   "metadata": {},
   "outputs": [
    {
     "data": {
      "text/plain": [
       "0    0.553839\n",
       "1    0.446161\n",
       "Name: shot_made_flag, dtype: float64"
      ]
     },
     "execution_count": 14,
     "metadata": {},
     "output_type": "execute_result"
    }
   ],
   "source": [
    "y.value_counts(normalize=True)"
   ]
  },
  {
   "cell_type": "code",
   "execution_count": 15,
   "id": "d4efbc5d",
   "metadata": {},
   "outputs": [
    {
     "data": {
      "image/png": "[encoded data removed]",
      "text/plain": [
       "<Figure size 540x720 with 1 Axes>"
      ]
     },
     "metadata": {
      "needs_background": "light"
     },
     "output_type": "display_data"
    }
   ],
   "source": [
    "plt.figure(figsize=(7.5,10))\n",
    "plt.bar(['Miss','Make'], \n",
    "        y.value_counts(normalize=True).values,\n",
    "        width = 0.9);"
   ]
  },
  {
   "cell_type": "markdown",
   "id": "7ca610e6",
   "metadata": {},
   "source": [
    ">**Our null model has an accuracy of 55% when predicting 'Miss', the majority class, for all instances.**"
   ]
  },
  {
   "cell_type": "markdown",
   "id": "324934f1",
   "metadata": {},
   "source": [
    "## Model 2: KNeighbors"
   ]
  },
  {
   "cell_type": "markdown",
   "id": "186d9185",
   "metadata": {},
   "source": [
    "### Dataset 1"
   ]
  },
  {
   "cell_type": "code",
   "execution_count": 17,
   "id": "4fe7b548",
   "metadata": {},
   "outputs": [],
   "source": [
    "knn_params = {\n",
    "    'n_neighbors': range(1,1001,100),\n",
    "    'metric': ['euclidean', 'manhattan'],\n",
    "}\n",
    "\n",
    "knn_gridsearch = GridSearchCV(\n",
    "    KNeighborsClassifier(), #estimator; what model to fit\n",
    "    knn_params, #parameter grid\n",
    "    cv=5, #number of folds; default is 5\n",
    "    n_jobs=-1,\n",
    "    verbose=1\n",
    ")"
   ]
  },
  {
   "cell_type": "code",
   "execution_count": 18,
   "id": "35e81373",
   "metadata": {},
   "outputs": [
    {
     "name": "stdout",
     "output_type": "stream",
     "text": [
      "Fitting 5 folds for each of 20 candidates, totalling 100 fits\n"
     ]
    },
    {
     "data": {
      "text/html": [
       "<div>\n",
       "<style scoped>\n",
       "    .dataframe tbody tr th:only-of-type {\n",
       "        vertical-align: middle;\n",
       "    }\n",
       "\n",
       "    .dataframe tbody tr th {\n",
       "        vertical-align: top;\n",
       "    }\n",
       "\n",
       "    .dataframe thead th {\n",
       "        text-align: right;\n",
       "    }\n",
       "</style>\n",
       "<table border=\"1\" class=\"dataframe\">\n",
       "  <thead>\n",
       "    <tr style=\"text-align: right;\">\n",
       "      <th></th>\n",
       "      <th>mean_fit_time</th>\n",
       "      <th>std_fit_time</th>\n",
       "      <th>mean_score_time</th>\n",
       "      <th>std_score_time</th>\n",
       "      <th>param_metric</th>\n",
       "      <th>param_n_neighbors</th>\n",
       "      <th>params</th>\n",
       "      <th>split0_test_score</th>\n",
       "      <th>split1_test_score</th>\n",
       "      <th>split2_test_score</th>\n",
       "      <th>split3_test_score</th>\n",
       "      <th>split4_test_score</th>\n",
       "      <th>mean_test_score</th>\n",
       "      <th>std_test_score</th>\n",
       "      <th>rank_test_score</th>\n",
       "    </tr>\n",
       "  </thead>\n",
       "  <tbody>\n",
       "    <tr>\n",
       "      <th>13</th>\n",
       "      <td>0.143818</td>\n",
       "      <td>0.009580</td>\n",
       "      <td>85.567909</td>\n",
       "      <td>1.897994</td>\n",
       "      <td>manhattan</td>\n",
       "      <td>301</td>\n",
       "      <td>{'metric': 'manhattan', 'n_neighbors': 301}</td>\n",
       "      <td>0.610895</td>\n",
       "      <td>0.617899</td>\n",
       "      <td>0.613389</td>\n",
       "      <td>0.605086</td>\n",
       "      <td>0.603269</td>\n",
       "      <td>0.610107</td>\n",
       "      <td>0.005368</td>\n",
       "      <td>1</td>\n",
       "    </tr>\n",
       "    <tr>\n",
       "      <th>19</th>\n",
       "      <td>0.141620</td>\n",
       "      <td>0.006050</td>\n",
       "      <td>65.960916</td>\n",
       "      <td>17.615200</td>\n",
       "      <td>manhattan</td>\n",
       "      <td>901</td>\n",
       "      <td>{'metric': 'manhattan', 'n_neighbors': 901}</td>\n",
       "      <td>0.607523</td>\n",
       "      <td>0.612711</td>\n",
       "      <td>0.611053</td>\n",
       "      <td>0.608718</td>\n",
       "      <td>0.610275</td>\n",
       "      <td>0.610056</td>\n",
       "      <td>0.001805</td>\n",
       "      <td>2</td>\n",
       "    </tr>\n",
       "    <tr>\n",
       "      <th>16</th>\n",
       "      <td>0.140822</td>\n",
       "      <td>0.003115</td>\n",
       "      <td>82.413332</td>\n",
       "      <td>1.492806</td>\n",
       "      <td>manhattan</td>\n",
       "      <td>601</td>\n",
       "      <td>{'metric': 'manhattan', 'n_neighbors': 601}</td>\n",
       "      <td>0.607263</td>\n",
       "      <td>0.613230</td>\n",
       "      <td>0.611572</td>\n",
       "      <td>0.608199</td>\n",
       "      <td>0.608978</td>\n",
       "      <td>0.609848</td>\n",
       "      <td>0.002217</td>\n",
       "      <td>3</td>\n",
       "    </tr>\n",
       "    <tr>\n",
       "      <th>18</th>\n",
       "      <td>0.151194</td>\n",
       "      <td>0.013699</td>\n",
       "      <td>80.820791</td>\n",
       "      <td>0.153521</td>\n",
       "      <td>manhattan</td>\n",
       "      <td>801</td>\n",
       "      <td>{'metric': 'manhattan', 'n_neighbors': 801}</td>\n",
       "      <td>0.607263</td>\n",
       "      <td>0.612192</td>\n",
       "      <td>0.611053</td>\n",
       "      <td>0.608459</td>\n",
       "      <td>0.610016</td>\n",
       "      <td>0.609797</td>\n",
       "      <td>0.001765</td>\n",
       "      <td>4</td>\n",
       "    </tr>\n",
       "    <tr>\n",
       "      <th>15</th>\n",
       "      <td>0.156381</td>\n",
       "      <td>0.023375</td>\n",
       "      <td>85.112681</td>\n",
       "      <td>0.770818</td>\n",
       "      <td>manhattan</td>\n",
       "      <td>501</td>\n",
       "      <td>{'metric': 'manhattan', 'n_neighbors': 501}</td>\n",
       "      <td>0.608560</td>\n",
       "      <td>0.614008</td>\n",
       "      <td>0.611313</td>\n",
       "      <td>0.608459</td>\n",
       "      <td>0.606124</td>\n",
       "      <td>0.609693</td>\n",
       "      <td>0.002713</td>\n",
       "      <td>5</td>\n",
       "    </tr>\n",
       "  </tbody>\n",
       "</table>\n",
       "</div>"
      ],
      "text/plain": [
       "    mean_fit_time  std_fit_time  mean_score_time  std_score_time param_metric  \\\n",
       "13       0.143818      0.009580        85.567909        1.897994    manhattan   \n",
       "19       0.141620      0.006050        65.960916       17.615200    manhattan   \n",
       "16       0.140822      0.003115        82.413332        1.492806    manhattan   \n",
       "18       0.151194      0.013699        80.820791        0.153521    manhattan   \n",
       "15       0.156381      0.023375        85.112681        0.770818    manhattan   \n",
       "\n",
       "   param_n_neighbors                                       params  \\\n",
       "13               301  {'metric': 'manhattan', 'n_neighbors': 301}   \n",
       "19               901  {'metric': 'manhattan', 'n_neighbors': 901}   \n",
       "16               601  {'metric': 'manhattan', 'n_neighbors': 601}   \n",
       "18               801  {'metric': 'manhattan', 'n_neighbors': 801}   \n",
       "15               501  {'metric': 'manhattan', 'n_neighbors': 501}   \n",
       "\n",
       "    split0_test_score  split1_test_score  split2_test_score  \\\n",
       "13           0.610895           0.617899           0.613389   \n",
       "19           0.607523           0.612711           0.611053   \n",
       "16           0.607263           0.613230           0.611572   \n",
       "18           0.607263           0.612192           0.611053   \n",
       "15           0.608560           0.614008           0.611313   \n",
       "\n",
       "    split3_test_score  split4_test_score  mean_test_score  std_test_score  \\\n",
       "13           0.605086           0.603269         0.610107        0.005368   \n",
       "19           0.608718           0.610275         0.610056        0.001805   \n",
       "16           0.608199           0.608978         0.609848        0.002217   \n",
       "18           0.608459           0.610016         0.609797        0.001765   \n",
       "15           0.608459           0.606124         0.609693        0.002713   \n",
       "\n",
       "    rank_test_score  \n",
       "13                1  \n",
       "19                2  \n",
       "16                3  \n",
       "18                4  \n",
       "15                5  "
      ]
     },
     "execution_count": 18,
     "metadata": {},
     "output_type": "execute_result"
    }
   ],
   "source": [
    "knn_gridsearch.fit(X1_train_sc, y1_train)\n",
    "pd.DataFrame(knn_gridsearch.cv_results_).sort_values('rank_test_score').head()"
   ]
  },
  {
   "cell_type": "code",
   "execution_count": 19,
   "id": "e62ab21d",
   "metadata": {},
   "outputs": [
    {
     "data": {
      "text/plain": [
       "0.6074708171206226"
      ]
     },
     "execution_count": 19,
     "metadata": {},
     "output_type": "execute_result"
    }
   ],
   "source": [
    "knn_gridsearch.score(X1_test_sc, y1_test)"
   ]
  },
  {
   "cell_type": "markdown",
   "id": "f1d82e1e",
   "metadata": {},
   "source": [
    "*Note: This gridsearch took a long time. For efficiencies sake, I will be using the optimal hyperparameters from this gridsearch for future KNN models.*"
   ]
  },
  {
   "cell_type": "code",
   "execution_count": 20,
   "id": "bcfef7dc",
   "metadata": {},
   "outputs": [
    {
     "data": {
      "text/plain": [
       "KNeighborsClassifier(metric='manhattan', n_neighbors=301)"
      ]
     },
     "execution_count": 20,
     "metadata": {},
     "output_type": "execute_result"
    }
   ],
   "source": [
    "knn_gridsearch.best_estimator_"
   ]
  },
  {
   "cell_type": "markdown",
   "id": "972a3aa7",
   "metadata": {},
   "source": [
    "**Analysis**\n",
    "- We see an accuracy of **60.74%**, which is better than most of our Neural Networks, although the gridsearch took a long time, once it has identified a best estimator, this model's speed is similar to our Neural networks.\n",
    "- Train and Test accuracy are close. If anything, there is very slight overfitting."
   ]
  },
  {
   "cell_type": "markdown",
   "id": "2071891c",
   "metadata": {},
   "source": [
    "**Although we are mainly concerned with accuracy, we may be able to gather some insight through misclassification statistics.**"
   ]
  },
  {
   "cell_type": "code",
   "execution_count": 21,
   "id": "f6f242ac",
   "metadata": {},
   "outputs": [
    {
     "name": "stdout",
     "output_type": "stream",
     "text": [
      "Recall =  0.3058946634112312\n",
      "Precision =  0.6224272533711852\n",
      "Specificity =  0.850477796514896\n"
     ]
    }
   ],
   "source": [
    "preds = np.round(knn_gridsearch.predict(X1_test_sc),0)\n",
    "\n",
    "# Recall/Sensitivity\n",
    "print('Recall = ', metrics.recall_score(y1_test, preds))\n",
    "\n",
    "# Precision\n",
    "print('Precision = ', metrics.precision_score(y1_test, preds))\n",
    "\n",
    "cm = metrics.confusion_matrix(y1_test, preds)\n",
    "tn, fp, fn, tp = cm.ravel()\n",
    "\n",
    "# Specificity\n",
    "print(\"Specificity = \", tn / (tn+fp))"
   ]
  },
  {
   "cell_type": "code",
   "execution_count": 22,
   "id": "e1f14b76",
   "metadata": {},
   "outputs": [],
   "source": [
    "m2_d1 = [61, 60.74, \n",
    "         round(metrics.recall_score(y1_test, preds)*100,2), \n",
    "         round(metrics.precision_score(y1_test, preds)*100,2),\n",
    "         round((tn / (tn+fp))*100,2)\n",
    "        ]"
   ]
  },
  {
   "cell_type": "markdown",
   "id": "3e1f5e8c",
   "metadata": {},
   "source": [
    "### Dataset 2"
   ]
  },
  {
   "cell_type": "code",
   "execution_count": 23,
   "id": "d82161e0",
   "metadata": {
    "scrolled": true
   },
   "outputs": [
    {
     "data": {
      "text/plain": [
       "0.6"
      ]
     },
     "execution_count": 23,
     "metadata": {},
     "output_type": "execute_result"
    }
   ],
   "source": [
    "knn = KNeighborsClassifier(metric='manhattan', n_neighbors=301)\n",
    "knn.fit(X2_train_sc, y2_train)\n",
    "knn.score(X2_test_sc, y2_test)"
   ]
  },
  {
   "cell_type": "markdown",
   "id": "58e79f8b",
   "metadata": {},
   "source": [
    "**Analysis**\n",
    "- Accuracy of **60%**, slightly worse than our first dataset model.\n",
    "- This coincides with the NN where Dataset 2 was the worse performing dataset."
   ]
  },
  {
   "cell_type": "markdown",
   "id": "78c165bd",
   "metadata": {},
   "source": [
    "**Although we are mainly concerned with accuracy, we may be able to gather some insight through misclassification statistics.**"
   ]
  },
  {
   "cell_type": "code",
   "execution_count": 24,
   "id": "515a905c",
   "metadata": {},
   "outputs": [
    {
     "name": "stdout",
     "output_type": "stream",
     "text": [
      "Recall =  0.18695500523194977\n",
      "Precision =  0.6916129032258065\n",
      "Specificity =  0.9328274311410905\n"
     ]
    }
   ],
   "source": [
    "preds = np.round(knn.predict(X2_test_sc),0)\n",
    "\n",
    "# Recall/Sensitivity\n",
    "print('Recall = ', metrics.recall_score(y2_test, preds))\n",
    "\n",
    "# Precision\n",
    "print('Precision = ', metrics.precision_score(y2_test, preds))\n",
    "\n",
    "cm = metrics.confusion_matrix(y2_test, preds)\n",
    "tn, fp, fn, tp = cm.ravel()\n",
    "\n",
    "# Specificity\n",
    "print(\"Specificity = \", tn / (tn+fp))"
   ]
  },
  {
   "cell_type": "code",
   "execution_count": 26,
   "id": "e96a272d",
   "metadata": {},
   "outputs": [],
   "source": [
    "m2_d2 = [60, 60, \n",
    "          round(metrics.recall_score(y2_test, preds)*100,2), \n",
    "          round(metrics.precision_score(y2_test, preds)*100,2),\n",
    "          round((tn / (tn+fp))*100,2)\n",
    "         ]"
   ]
  },
  {
   "cell_type": "markdown",
   "id": "ec7792ba",
   "metadata": {},
   "source": [
    "### Dataset 3"
   ]
  },
  {
   "cell_type": "code",
   "execution_count": 37,
   "id": "5ef65398",
   "metadata": {
    "scrolled": false
   },
   "outputs": [
    {
     "data": {
      "text/plain": [
       "0.6048249027237355"
      ]
     },
     "execution_count": 37,
     "metadata": {},
     "output_type": "execute_result"
    }
   ],
   "source": [
    "knn = KNeighborsClassifier(metric='manhattan', n_neighbors=301)\n",
    "knn.fit(X3_train_sc, y3_train)\n",
    "knn.score(X3_test_sc, y3_test)"
   ]
  },
  {
   "cell_type": "markdown",
   "id": "542f1c0b",
   "metadata": {},
   "source": [
    "**Analysis**\n",
    "- Accuracy is slightly better than dataset 2 but still slighty worse than dataset 1 at **60.5%**."
   ]
  },
  {
   "cell_type": "markdown",
   "id": "7b5e141c",
   "metadata": {},
   "source": [
    "**Although we are mainly concerned with accuracy, we may be able to gather some insight through misclassification statistics.**"
   ]
  },
  {
   "cell_type": "code",
   "execution_count": 38,
   "id": "599f4602",
   "metadata": {},
   "outputs": [
    {
     "name": "stdout",
     "output_type": "stream",
     "text": [
      "Recall =  0.3215905127310778\n",
      "Precision =  0.6081794195250659\n",
      "Specificity =  0.8330522765598651\n"
     ]
    }
   ],
   "source": [
    "preds = np.round(knn.predict(X3_test_sc),0)\n",
    "\n",
    "# Recall/Sensitivity\n",
    "print('Recall = ', metrics.recall_score(y3_test, preds))\n",
    "\n",
    "# Precision\n",
    "print('Precision = ', metrics.precision_score(y3_test, preds))\n",
    "\n",
    "cm = metrics.confusion_matrix(y3_test, preds)\n",
    "tn, fp, fn, tp = cm.ravel()\n",
    "\n",
    "# Specificity\n",
    "print(\"Specificity = \", tn / (tn+fp))"
   ]
  },
  {
   "cell_type": "code",
   "execution_count": 39,
   "id": "68e2cfa8",
   "metadata": {},
   "outputs": [],
   "source": [
    "m2_d3 = [60.5, 60.5, \n",
    "          round(metrics.recall_score(y3_test, preds)*100,2), \n",
    "          round(metrics.precision_score(y3_test, preds)*100,2),\n",
    "          round((tn / (tn+fp))*100,2)\n",
    "         ]"
   ]
  },
  {
   "cell_type": "markdown",
   "id": "5160743d",
   "metadata": {},
   "source": [
    "### Dataset 4"
   ]
  },
  {
   "cell_type": "code",
   "execution_count": 40,
   "id": "fb1cc95f",
   "metadata": {
    "scrolled": true
   },
   "outputs": [
    {
     "data": {
      "text/plain": [
       "0.6062256809338521"
      ]
     },
     "execution_count": 40,
     "metadata": {},
     "output_type": "execute_result"
    }
   ],
   "source": [
    "knn = KNeighborsClassifier(metric='manhattan', n_neighbors=301)\n",
    "knn.fit(X4_train_sc, y4_train)\n",
    "knn.score(X4_test_sc, y4_test)"
   ]
  },
  {
   "cell_type": "markdown",
   "id": "6bf68932",
   "metadata": {},
   "source": [
    "**Analysis**\n",
    "- Accuracy is slightly better than Dataset 3 and still trails dataset 2 at **60.6%**."
   ]
  },
  {
   "cell_type": "markdown",
   "id": "2c8d9b2f",
   "metadata": {},
   "source": [
    "**Although we are mainly concerned with accuracy, we may be able to gather some insight through misclassification statistics.**"
   ]
  },
  {
   "cell_type": "code",
   "execution_count": 41,
   "id": "b0d5951e",
   "metadata": {},
   "outputs": [
    {
     "name": "stdout",
     "output_type": "stream",
     "text": [
      "Recall =  0.33554237879316356\n",
      "Precision =  0.6061751732829238\n",
      "Specificity =  0.8243395165823496\n"
     ]
    }
   ],
   "source": [
    "preds = np.round(knn.predict(X4_test_sc),0)\n",
    "\n",
    "# Recall/Sensitivity\n",
    "print('Recall = ', metrics.recall_score(y4_test, preds))\n",
    "\n",
    "# Precision\n",
    "print('Precision = ', metrics.precision_score(y4_test, preds))\n",
    "\n",
    "cm = metrics.confusion_matrix(y4_test, preds)\n",
    "tn, fp, fn, tp = cm.ravel()\n",
    "\n",
    "# Specificity\n",
    "print(\"Specificity = \", tn / (tn+fp))"
   ]
  },
  {
   "cell_type": "code",
   "execution_count": 42,
   "id": "8e690116",
   "metadata": {},
   "outputs": [],
   "source": [
    "m2_d4 = [60.6, 60.6, \n",
    "          round(metrics.recall_score(y4_test, preds)*100,2), \n",
    "          round(metrics.precision_score(y4_test, preds)*100,2),\n",
    "          round((tn / (tn+fp))*100,2)\n",
    "         ]"
   ]
  },
  {
   "cell_type": "markdown",
   "id": "bdd98b87",
   "metadata": {},
   "source": [
    "### Dataset 5"
   ]
  },
  {
   "cell_type": "code",
   "execution_count": 43,
   "id": "48675663",
   "metadata": {
    "scrolled": true
   },
   "outputs": [
    {
     "data": {
      "text/plain": [
       "0.6074708171206226"
      ]
     },
     "execution_count": 43,
     "metadata": {},
     "output_type": "execute_result"
    }
   ],
   "source": [
    "knn = KNeighborsClassifier(metric='manhattan', n_neighbors=301)\n",
    "knn.fit(X5_train_sc, y5_train)\n",
    "knn.score(X5_test_sc, y5_test)"
   ]
  },
  {
   "cell_type": "markdown",
   "id": "a6fa5a2c",
   "metadata": {},
   "source": [
    "**Analysis**\n",
    "- We see a close tie with Dataset 1 with an accuracy of **60.74%**.\n",
    "- This model is by far the fastest as it is using only a single feature."
   ]
  },
  {
   "cell_type": "markdown",
   "id": "be2edcc4",
   "metadata": {},
   "source": [
    "**Although we are mainly concerned with accuracy, we may be able to gather some insight through misclassification statistics.**"
   ]
  },
  {
   "cell_type": "code",
   "execution_count": 44,
   "id": "fcd7dfcb",
   "metadata": {},
   "outputs": [
    {
     "name": "stdout",
     "output_type": "stream",
     "text": [
      "Recall =  0.3079874433205441\n",
      "Precision =  0.6213933849401829\n",
      "Specificity =  0.8487914558740866\n"
     ]
    }
   ],
   "source": [
    "preds = np.round(knn.predict(X5_test_sc),0)\n",
    "\n",
    "# Recall/Sensitivity\n",
    "print('Recall = ', metrics.recall_score(y5_test, preds))\n",
    "\n",
    "# Precision\n",
    "print('Precision = ', metrics.precision_score(y5_test, preds))\n",
    "\n",
    "cm = metrics.confusion_matrix(y5_test, preds)\n",
    "tn, fp, fn, tp = cm.ravel()\n",
    "\n",
    "# Specificity\n",
    "print(\"Specificity = \", tn / (tn+fp))"
   ]
  },
  {
   "cell_type": "code",
   "execution_count": 45,
   "id": "c078e4c3",
   "metadata": {},
   "outputs": [],
   "source": [
    "m2_d5 = [60.74, 60.74, \n",
    "          round(metrics.recall_score(y5_test, preds)*100,2), \n",
    "          round(metrics.precision_score(y5_test, preds)*100,2),\n",
    "          round((tn / (tn+fp))*100,2)\n",
    "         ]"
   ]
  },
  {
   "cell_type": "markdown",
   "id": "952e16f4",
   "metadata": {},
   "source": [
    "## Model 2 Summary:"
   ]
  },
  {
   "cell_type": "code",
   "execution_count": 48,
   "id": "a03225d0",
   "metadata": {
    "scrolled": true
   },
   "outputs": [
    {
     "data": {
      "text/html": [
       "<div>\n",
       "<style scoped>\n",
       "    .dataframe tbody tr th:only-of-type {\n",
       "        vertical-align: middle;\n",
       "    }\n",
       "\n",
       "    .dataframe tbody tr th {\n",
       "        vertical-align: top;\n",
       "    }\n",
       "\n",
       "    .dataframe thead th {\n",
       "        text-align: right;\n",
       "    }\n",
       "</style>\n",
       "<table border=\"1\" class=\"dataframe\">\n",
       "  <thead>\n",
       "    <tr style=\"text-align: right;\">\n",
       "      <th></th>\n",
       "      <th>Avg Acc</th>\n",
       "      <th>Final Acc</th>\n",
       "      <th>Recall</th>\n",
       "      <th>Precision</th>\n",
       "      <th>Specificity</th>\n",
       "    </tr>\n",
       "  </thead>\n",
       "  <tbody>\n",
       "    <tr>\n",
       "      <th>KNN - Dataset 1</th>\n",
       "      <td>61.00</td>\n",
       "      <td>60.74</td>\n",
       "      <td>30.59</td>\n",
       "      <td>62.24</td>\n",
       "      <td>85.05</td>\n",
       "    </tr>\n",
       "    <tr>\n",
       "      <th>KNN - Dataset 2</th>\n",
       "      <td>60.00</td>\n",
       "      <td>60.00</td>\n",
       "      <td>18.70</td>\n",
       "      <td>69.16</td>\n",
       "      <td>93.28</td>\n",
       "    </tr>\n",
       "    <tr>\n",
       "      <th>KNN - Dataset 3</th>\n",
       "      <td>60.50</td>\n",
       "      <td>60.50</td>\n",
       "      <td>32.16</td>\n",
       "      <td>60.82</td>\n",
       "      <td>83.31</td>\n",
       "    </tr>\n",
       "    <tr>\n",
       "      <th>KNN - Dataset 4</th>\n",
       "      <td>60.60</td>\n",
       "      <td>60.60</td>\n",
       "      <td>33.55</td>\n",
       "      <td>60.62</td>\n",
       "      <td>82.43</td>\n",
       "    </tr>\n",
       "    <tr>\n",
       "      <th>KNN - Dataset 5</th>\n",
       "      <td>60.74</td>\n",
       "      <td>60.74</td>\n",
       "      <td>30.80</td>\n",
       "      <td>62.14</td>\n",
       "      <td>84.88</td>\n",
       "    </tr>\n",
       "  </tbody>\n",
       "</table>\n",
       "</div>"
      ],
      "text/plain": [
       "                 Avg Acc  Final Acc  Recall  Precision  Specificity\n",
       "KNN - Dataset 1    61.00      60.74   30.59      62.24        85.05\n",
       "KNN - Dataset 2    60.00      60.00   18.70      69.16        93.28\n",
       "KNN - Dataset 3    60.50      60.50   32.16      60.82        83.31\n",
       "KNN - Dataset 4    60.60      60.60   33.55      60.62        82.43\n",
       "KNN - Dataset 5    60.74      60.74   30.80      62.14        84.88"
      ]
     },
     "execution_count": 48,
     "metadata": {},
     "output_type": "execute_result"
    }
   ],
   "source": [
    "m2_df = pd.DataFrame([m2_d1, m2_d2, m2_d3, m2_d4, m2_d5], \n",
    "                     columns=['Avg Acc', 'Final Acc', 'Recall', 'Precision', 'Specificity'], \n",
    "                     index=['KNN - Dataset 1', 'KNN - Dataset 2', 'KNN - Dataset 3', 'KNN - Dataset 4', 'KNN - Dataset 5']\n",
    "                    )\n",
    "m2_df"
   ]
  },
  {
   "cell_type": "markdown",
   "id": "991a799c",
   "metadata": {},
   "source": [
    "**Analysis:** \n",
    "> From Model 1, we have a tie between Dataset 1 and Dataset 5 for our best model when looking to accuracy. However, **Dataset 5 executed much more quickly and therefore is our preferred model from KNeighbors**. These results were similar to our Neural Network, with a higher average but lower high. \n",
    "\n",
    "**So far, Model 1 Dataset 3 Neural Network is our best performing model, while being similarly efficient.**"
   ]
  },
  {
   "cell_type": "code",
   "execution_count": 49,
   "id": "6e7d4c63",
   "metadata": {},
   "outputs": [],
   "source": [
    "m2_df.to_csv('../data/m2_summary.csv')"
   ]
  },
  {
   "cell_type": "code",
   "execution_count": null,
   "id": "9f1b9cd1",
   "metadata": {},
   "outputs": [],
   "source": []
  }
 ],
 "metadata": {
  "kernelspec": {
   "display_name": "Python 3",
   "language": "python",
   "name": "python3"
  },
  "language_info": {
   "codemirror_mode": {
    "name": "ipython",
    "version": 3
   },
   "file_extension": ".py",
   "mimetype": "text/x-python",
   "name": "python",
   "nbconvert_exporter": "python",
   "pygments_lexer": "ipython3",
   "version": "3.8.8"
  }
 },
 "nbformat": 4,
 "nbformat_minor": 5
}
